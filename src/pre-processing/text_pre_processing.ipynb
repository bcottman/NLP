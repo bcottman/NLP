{
 "cells": [
  {
   "cell_type": "markdown",
   "metadata": {},
   "source": [
    "## parameters"
   ]
  },
  {
   "cell_type": "code",
   "execution_count": 16,
   "metadata": {
    "ExecuteTime": {
     "end_time": "2020-08-14T17:15:11.288646Z",
     "start_time": "2020-08-14T17:15:11.224601Z"
    }
   },
   "outputs": [],
   "source": [
    "MULPIPIER = int(1e6)\n",
    "text_l = 120"
   ]
  },
  {
   "cell_type": "markdown",
   "metadata": {},
   "source": [
    "## includes"
   ]
  },
  {
   "cell_type": "code",
   "execution_count": 27,
   "metadata": {
    "ExecuteTime": {
     "end_time": "2020-08-14T17:20:07.069985Z",
     "start_time": "2020-08-14T17:20:07.013581Z"
    }
   },
   "outputs": [],
   "source": [
    "import matplotlib\n",
    "%matplotlib inline\n",
    "import matplotlib.pyplot as plt\n",
    "import io\n"
   ]
  },
  {
   "cell_type": "code",
   "execution_count": 18,
   "metadata": {
    "ExecuteTime": {
     "end_time": "2020-08-14T17:15:36.137279Z",
     "start_time": "2020-08-14T17:15:28.046247Z"
    },
    "scrolled": false
   },
   "outputs": [
    {
     "name": "stdout",
     "output_type": "stream",
     "text": [
      "The autoreload extension is already loaded. To reload it, use:\n",
      "  %reload_ext autoreload\n"
     ]
    },
    {
     "data": {
      "text/plain": [
       "['# packages in environment at /opt/conda:',\n",
       " '#',\n",
       " '# Name                    Version                   Build  Channel',\n",
       " '_libgcc_mutex             0.1                 conda_forge    conda-forge',\n",
       " '_openmp_mutex             4.5                       0_gnu    conda-forge',\n",
       " 'alembic                   1.4.2              pyh9f0ad1d_0    conda-forge',\n",
       " 'argon2-cffi               20.1.0                   pypi_0    pypi',\n",
       " 'astroid                   2.4.2                    pypi_0    pypi',\n",
       " 'astunparse                1.6.3                    pypi_0    pypi',\n",
       " 'async_generator           1.10                       py_0    conda-forge',\n",
       " 'attrs                     19.3.0                     py_0    conda-forge',\n",
       " 'backcall                  0.1.0                      py_0    conda-forge',\n",
       " 'beautifulsoup4            4.9.1                    pypi_0    pypi',\n",
       " 'bleach                    3.1.5              pyh9f0ad1d_0    conda-forge',\n",
       " 'blinker                   1.4                        py_1    conda-forge',\n",
       " 'blis                      0.4.1                    pypi_0    pypi',\n",
       " 'boto3                     1.14.42                  pypi_0    pypi',\n",
       " 'botocore                  1.17.42                  pypi_0    pypi',\n",
       " 'brotlipy                  0.7.0           py37h8f50634_1000    conda-forge',\n",
       " 'bs4                       0.0.1                    pypi_0    pypi',\n",
       " 'ca-certificates           2020.4.5.1           hecc5488_0    conda-forge',\n",
       " 'cachetools                4.1.1                    pypi_0    pypi',\n",
       " 'catalogue                 1.0.0                    pypi_0    pypi',\n",
       " 'certifi                   2020.6.20                pypi_0    pypi',\n",
       " 'certipy                   0.1.3                      py_0    conda-forge',\n",
       " 'cffi                      1.14.0           py37hd463f26_0    conda-forge',\n",
       " 'chardet                   3.0.4           py37hc8dfbb8_1006    conda-forge',\n",
       " 'click                     7.1.2                    pypi_0    pypi',\n",
       " 'cloudpickle               1.5.0                    pypi_0    pypi',\n",
       " 'colour                    0.1.5                    pypi_0    pypi',\n",
       " 'conda                     4.8.2                    py37_0    conda-forge',\n",
       " 'conda-package-handling    1.6.0            py37h8f50634_2    conda-forge',\n",
       " 'configurable-http-proxy   4.2.1           node13_he01fd0c_0    conda-forge',\n",
       " 'cryptography              2.9.2            py37hb09aad4_0    conda-forge',\n",
       " 'cycler                    0.10.0                   pypi_0    pypi',\n",
       " 'cymem                     2.0.3                    pypi_0    pypi',\n",
       " 'cytoolz                   0.10.1                   pypi_0    pypi',\n",
       " 'dask                      2.23.0                   pypi_0    pypi',\n",
       " 'decorator                 4.4.2                      py_0    conda-forge',\n",
       " 'defusedxml                0.6.0                      py_0    conda-forge',\n",
       " 'distributed               2.22.0                   pypi_0    pypi',\n",
       " 'docutils                  0.15.2                   pypi_0    pypi',\n",
       " 'emoji                     0.6.0                    pypi_0    pypi',\n",
       " 'en-core-web-lg            2.3.1                    pypi_0    pypi',\n",
       " 'en-core-web-sm            2.3.1                    pypi_0    pypi',\n",
       " 'entrypoints               0.3             py37hc8dfbb8_1001    conda-forge',\n",
       " 'filelock                  3.0.12                   pypi_0    pypi',\n",
       " 'ftfy                      5.8                      pypi_0    pypi',\n",
       " 'future                    0.18.2                   pypi_0    pypi',\n",
       " 'geojson                   2.5.0                    pypi_0    pypi',\n",
       " 'h5py                      2.10.0                   pypi_0    pypi',\n",
       " 'heapdict                  1.0.1                    pypi_0    pypi',\n",
       " 'icu                       64.2                 he1b5a44_1    conda-forge',\n",
       " 'idna                      2.10                     pypi_0    pypi',\n",
       " 'importlib-metadata        1.7.0                    pypi_0    pypi',\n",
       " 'importlib_metadata        1.6.0                         0    conda-forge',\n",
       " 'iniconfig                 1.0.1                    pypi_0    pypi',\n",
       " 'ipykernel                 5.3.0            py37h43977f1_0    conda-forge',\n",
       " 'ipython                   7.14.0           py37hc8dfbb8_0    conda-forge',\n",
       " 'ipython_genutils          0.2.0                      py_1    conda-forge',\n",
       " 'isort                     4.3.21                   pypi_0    pypi',\n",
       " 'jedi                      0.17.0           py37hc8dfbb8_0    conda-forge',\n",
       " 'jellyfish                 0.8.2                    pypi_0    pypi',\n",
       " 'jinja2                    2.11.2             pyh9f0ad1d_0    conda-forge',\n",
       " 'jmespath                  0.10.0                   pypi_0    pypi',\n",
       " 'joblib                    0.16.0                   pypi_0    pypi',\n",
       " 'json5                     0.9.0                      py_0    conda-forge',\n",
       " 'jsonschema                3.2.0            py37hc8dfbb8_1    conda-forge',\n",
       " 'jupyter-contrib-core      0.3.3                    pypi_0    pypi',\n",
       " 'jupyter-contrib-nbextensions 0.5.1                    pypi_0    pypi',\n",
       " 'jupyter-highlight-selected-word 0.2.0                    pypi_0    pypi',\n",
       " 'jupyter-latex-envs        1.4.6                    pypi_0    pypi',\n",
       " 'jupyter-nbextensions-configurator 0.4.1                    pypi_0    pypi',\n",
       " 'jupyter_client            6.1.3                      py_0    conda-forge',\n",
       " 'jupyter_core              4.6.3            py37hc8dfbb8_1    conda-forge',\n",
       " 'jupyter_telemetry         0.0.5                      py_0    conda-forge',\n",
       " 'jupyterhub                1.1.0                    py37_2    conda-forge',\n",
       " 'jupyterhub-base           1.1.0                    py37_2    conda-forge',\n",
       " 'jupyterlab                2.1.3                      py_0    conda-forge',\n",
       " 'jupyterlab_server         1.1.5                      py_0    conda-forge',\n",
       " 'jupyterthemes             0.20.0                   pypi_0    pypi',\n",
       " 'keras                     2.4.3                    pypi_0    pypi',\n",
       " 'kiwisolver                1.2.0                    pypi_0    pypi',\n",
       " 'krb5                      1.17.1               h2fd8d38_0    conda-forge',\n",
       " 'lazy-object-proxy         1.4.3                    pypi_0    pypi',\n",
       " 'ld_impl_linux-64          2.34                 h53a641e_0    conda-forge',\n",
       " 'lesscpy                   0.14.0                   pypi_0    pypi',\n",
       " 'libcurl                   7.69.1               hf7181ac_0    conda-forge',\n",
       " 'libedit                   3.1.20170329      hf8c457e_1001    conda-forge',\n",
       " 'libffi                    3.2.1             he1b5a44_1007    conda-forge',\n",
       " 'libgcc-ng                 9.2.0                h24d8f2e_2    conda-forge',\n",
       " 'libgomp                   9.2.0                h24d8f2e_2    conda-forge',\n",
       " 'libsodium                 1.0.17               h516909a_0    conda-forge',\n",
       " 'libssh2                   1.9.0                hab1572f_2    conda-forge',\n",
       " 'libstdcxx-ng              9.2.0                hdf63c60_2    conda-forge',\n",
       " 'libuv                     1.34.0               h516909a_0    conda-forge',\n",
       " 'lxml                      4.5.2                    pypi_0    pypi',\n",
       " 'mako                      1.1.0                      py_0    conda-forge',\n",
       " 'markdown                  3.2.2                    pypi_0    pypi',\n",
       " 'markupsafe                1.1.1            py37h8f50634_1    conda-forge',\n",
       " 'matplotlib                3.3.1                    pypi_0    pypi',\n",
       " 'mccabe                    0.6.1                    pypi_0    pypi',\n",
       " 'mistune                   0.8.4           py37h8f50634_1001    conda-forge',\n",
       " 'more-itertools            8.4.0                    pypi_0    pypi',\n",
       " 'mpld3                     0.5.1                    pypi_0    pypi',\n",
       " 'msgpack                   1.0.0                    pypi_0    pypi',\n",
       " 'murmurhash                1.0.2                    pypi_0    pypi',\n",
       " 'nbconvert                 5.6.1            py37hc8dfbb8_1    conda-forge',\n",
       " 'nbformat                  5.0.6                      py_0    conda-forge',\n",
       " 'ncurses                   6.1               hf484d3e_1002    conda-forge',\n",
       " 'networkx                  2.4                      pypi_0    pypi',\n",
       " 'nibabel                   3.1.1                    pypi_0    pypi',\n",
       " 'nilearn                   0.5.0                    pypi_0    pypi',\n",
       " 'nltk                      3.5                      pypi_0    pypi',\n",
       " 'nodejs                    13.13.0              hf5d1a2b_0    conda-forge',\n",
       " 'notebook                  6.1.3                    pypi_0    pypi',\n",
       " 'numpy                     1.19.1                   pypi_0    pypi',\n",
       " 'oauthlib                  3.0.1                      py_0    conda-forge',\n",
       " 'openssl                   1.1.1g               h516909a_0    conda-forge',\n",
       " 'packaging                 20.4               pyh9f0ad1d_0    conda-forge',\n",
       " 'pamela                    1.0.0                      py_0    conda-forge',\n",
       " 'pandas                    1.1.0                    pypi_0    pypi',\n",
       " 'pandoc                    2.9.2.1                       0    conda-forge',\n",
       " 'pandocfilters             1.4.2                      py_1    conda-forge',\n",
       " 'parso                     0.7.0              pyh9f0ad1d_0    conda-forge',\n",
       " 'patsy                     0.5.1                    pypi_0    pypi',\n",
       " 'pdfminer                  20191125                 pypi_0    pypi',\n",
       " 'pexpect                   4.8.0            py37hc8dfbb8_1    conda-forge',\n",
       " 'pickleshare               0.7.5           py37hc8dfbb8_1001    conda-forge',\n",
       " 'pillow                    7.2.0                    pypi_0    pypi',\n",
       " 'pip                       20.1.1                   pypi_0    pypi',\n",
       " 'pixiedust                 1.1.18                   pypi_0    pypi',\n",
       " 'plac                      1.1.3                    pypi_0    pypi',\n",
       " 'plotly                    4.9.0                    pypi_0    pypi',\n",
       " 'pluggy                    0.13.1                   pypi_0    pypi',\n",
       " 'ply                       3.11                     pypi_0    pypi',\n",
       " 'preshed                   3.0.2                    pypi_0    pypi',\n",
       " 'prettytable               0.7.2                    pypi_0    pypi',\n",
       " 'progressbar2              3.51.4                   pypi_0    pypi',\n",
       " 'prometheus_client         0.8.0              pyh9f0ad1d_0    conda-forge',\n",
       " 'prompt-toolkit            3.0.5                      py_0    conda-forge',\n",
       " 'psutil                    5.7.2                    pypi_0    pypi',\n",
       " 'ptyprocess                0.6.0                   py_1001    conda-forge',\n",
       " 'py                        1.9.0                    pypi_0    pypi',\n",
       " 'pycosat                   0.6.3           py37h8f50634_1004    conda-forge',\n",
       " 'pycparser                 2.20                       py_0    conda-forge',\n",
       " 'pycryptodome              3.9.8                    pypi_0    pypi',\n",
       " 'pycurl                    7.43.0.5         py37h16ce93b_0    conda-forge',\n",
       " 'pyemd                     0.5.1                    pypi_0    pypi',\n",
       " 'pygments                  2.6.1                      py_0    conda-forge',\n",
       " 'pyjwt                     1.7.1                      py_0    conda-forge',\n",
       " 'pylint                    2.5.3                    pypi_0    pypi',\n",
       " 'pyopenssl                 19.1.0                     py_1    conda-forge',\n",
       " 'pyparsing                 2.4.7              pyh9f0ad1d_0    conda-forge',\n",
       " 'pyphen                    0.9.5                    pypi_0    pypi',\n",
       " 'pyrsistent                0.16.0           py37h8f50634_0    conda-forge',\n",
       " 'pysocks                   1.7.1            py37hc8dfbb8_1    conda-forge',\n",
       " 'pytest                    6.0.1                    pypi_0    pypi',\n",
       " 'python                    3.7.6           h8356626_5_cpython    conda-forge',\n",
       " 'python-dateutil           2.8.1                      py_0    conda-forge',\n",
       " 'python-editor             1.0.4                      py_0    conda-forge',\n",
       " 'python-json-logger        0.1.11                     py_0    conda-forge',\n",
       " 'python-utils              2.4.0                    pypi_0    pypi',\n",
       " 'python_abi                3.7                     1_cp37m    conda-forge',\n",
       " 'pytokenizations           0.6.0                    pypi_0    pypi',\n",
       " 'pytz                      2020.1                   pypi_0    pypi',\n",
       " 'pyyaml                    5.3.1                    pypi_0    pypi',\n",
       " 'pyzmq                     19.0.1           py37hac76be4_0    conda-forge',\n",
       " 'readline                  8.0                  hf8c457e_0    conda-forge',\n",
       " 'regex                     2020.7.14                pypi_0    pypi',\n",
       " 'requests                  2.24.0                   pypi_0    pypi',\n",
       " 'retrying                  1.3.3                    pypi_0    pypi',\n",
       " 'ruamel.yaml               0.16.6           py37h8f50634_1    conda-forge',\n",
       " 'ruamel.yaml.clib          0.2.0            py37h8f50634_1    conda-forge',\n",
       " 'ruamel_yaml               0.15.80         py37h8f50634_1001    conda-forge',\n",
       " 's3transfer                0.3.3                    pypi_0    pypi',\n",
       " 'sacremoses                0.0.43                   pypi_0    pypi',\n",
       " 'scikit-learn              0.23.2                   pypi_0    pypi',\n",
       " 'scipy                     1.5.2                    pypi_0    pypi',\n",
       " 'seaborn                   0.10.1                   pypi_0    pypi',\n",
       " 'send2trash                1.5.0                      py_0    conda-forge',\n",
       " 'sentencepiece             0.1.91                   pypi_0    pypi',\n",
       " 'setuptools                49.6.0                   pypi_0    pypi',\n",
       " 'six                       1.15.0                   pypi_0    pypi',\n",
       " 'sortedcontainers          2.2.2                    pypi_0    pypi',\n",
       " 'soupsieve                 2.0.1                    pypi_0    pypi',\n",
       " 'spacy                     2.3.2                    pypi_0    pypi',\n",
       " 'spacy-transformers        0.6.2                    pypi_0    pypi',\n",
       " 'spacymoji                 2.0.0                    pypi_0    pypi',\n",
       " 'sqlalchemy                1.3.17           py37h8f50634_0    conda-forge',\n",
       " 'sqlite                    3.30.1               hcee41ef_0    conda-forge',\n",
       " 'srsly                     1.0.2                    pypi_0    pypi',\n",
       " 'statsmodels               0.11.1                   pypi_0    pypi',\n",
       " 'tblib                     1.7.0                    pypi_0    pypi',\n",
       " 'terminado                 0.8.3            py37hc8dfbb8_1    conda-forge',\n",
       " 'testpath                  0.4.4                      py_0    conda-forge',\n",
       " 'textacy                   0.10.0                   pypi_0    pypi',\n",
       " 'thinc                     7.4.1                    pypi_0    pypi',\n",
       " 'threadpoolctl             2.1.0                    pypi_0    pypi',\n",
       " 'tini                      0.18.0            h14c3975_1001    conda-forge',\n",
       " 'tk                        8.6.10               hed695b0_0    conda-forge',\n",
       " 'tokenizers                0.5.2                    pypi_0    pypi',\n",
       " 'toml                      0.10.1                   pypi_0    pypi',\n",
       " 'toolz                     0.10.0                   pypi_0    pypi',\n",
       " 'torch                     1.6.0                    pypi_0    pypi',\n",
       " 'torchcontrib              0.0.2                    pypi_0    pypi',\n",
       " 'tornado                   6.0.4            py37h8f50634_1    conda-forge',\n",
       " 'tqdm                      4.48.2                   pypi_0    pypi',\n",
       " 'traitlets                 4.3.3            py37hc8dfbb8_1    conda-forge',\n",
       " 'transformers              2.8.0                    pypi_0    pypi',\n",
       " 'typed-ast                 1.4.1                    pypi_0    pypi',\n",
       " 'urllib3                   1.25.10                  pypi_0    pypi',\n",
       " 'wasabi                    0.7.1                    pypi_0    pypi',\n",
       " 'wcwidth                   0.2.5                    pypi_0    pypi',\n",
       " 'webencodings              0.5.1                      py_1    conda-forge',\n",
       " 'wheel                     0.35.0                   pypi_0    pypi',\n",
       " 'wrapt                     1.12.1                   pypi_0    pypi',\n",
       " 'xlrd                      1.2.0                    pypi_0    pypi',\n",
       " 'xz                        5.2.5                h516909a_0    conda-forge',\n",
       " 'yaml                      0.2.4                h516909a_0    conda-forge',\n",
       " 'zeromq                    4.3.2                he1b5a44_2    conda-forge',\n",
       " 'zict                      2.0.0                    pypi_0    pypi',\n",
       " 'zipp                      3.1.0                      py_0    conda-forge',\n",
       " 'zlib                      1.2.11            h516909a_1006    conda-forge']"
      ]
     },
     "execution_count": 18,
     "metadata": {},
     "output_type": "execute_result"
    }
   ],
   "source": [
    "%load_ext autoreload\n",
    "%autoreload 2\n",
    "packages = !conda list\n",
    "packages"
   ]
  },
  {
   "cell_type": "markdown",
   "metadata": {},
   "source": [
    "## Output registry"
   ]
  },
  {
   "cell_type": "code",
   "execution_count": 80,
   "metadata": {
    "ExecuteTime": {
     "end_time": "2020-08-14T15:03:42.435786Z",
     "start_time": "2020-08-14T15:03:41.658896Z"
    }
   },
   "outputs": [
    {
     "name": "stdout",
     "output_type": "stream",
     "text": [
      "/docker/sentimentanalysis/src\r\n"
     ]
    }
   ],
   "source": [
    "!pwd"
   ]
  },
  {
   "cell_type": "code",
   "execution_count": 5,
   "metadata": {
    "ExecuteTime": {
     "end_time": "2020-08-13T22:04:46.007003Z",
     "start_time": "2020-08-13T22:04:45.277599Z"
    }
   },
   "outputs": [
    {
     "name": "stdout",
     "output_type": "stream",
     "text": [
      "['/docker/sentimentanalysis/src', '/opt/conda/lib/python37.zip', '/opt/conda/lib/python3.7', '/opt/conda/lib/python3.7/lib-dynload', '', '/opt/conda/lib/python3.7/site-packages', '/opt/conda/lib/python3.7/site-packages/IPython/extensions', '/home/jovyan/.ipython', '/docker/photon']\n",
      "/docker/sentimentanalysis/src\n"
     ]
    },
    {
     "data": {
      "text/plain": [
       "'/docker/sentimentanalysis/src'"
      ]
     },
     "execution_count": 5,
     "metadata": {},
     "output_type": "execute_result"
    }
   ],
   "source": [
    "from __future__ import print_function\n",
    "import sys, os\n",
    "\n",
    "old__file__ = !pwd\n",
    "__file__ = !cd ../../photon ;pwd\n",
    "#__file__ = !pwd\n",
    "__file__ = __file__[0]\n",
    "__file__\n",
    "sys.path.append(__file__)\n",
    "print(sys.path)\n",
    "os.chdir(old__file__[0])\n",
    "!pwd\n",
    "old__file__[0]"
   ]
  },
  {
   "cell_type": "code",
   "execution_count": 20,
   "metadata": {
    "ExecuteTime": {
     "end_time": "2020-08-14T17:16:45.028963Z",
     "start_time": "2020-08-14T17:16:44.587900Z"
    }
   },
   "outputs": [
    {
     "data": {
      "image/png": "[encoded data removed]",
      "text/plain": [
       "<Figure size 1944x72 with 1 Axes>"
      ]
     },
     "metadata": {},
     "output_type": "display_data"
    }
   ],
   "source": [
    "import seaborn as sns; sns.set()  # for plot styling\n",
    "import numpy as np\n",
    "####### nlp libraries\n",
    "import spacy as spacy\n",
    "import re\n",
    "from textacy.preprocessing.remove import remove_punctuation\n",
    "from textacy.preprocessing.replace import replace_phone_numbers\n",
    "from textacy.preprocessing.replace import replace_urls\n",
    "from textacy.preprocessing.replace import replace_emails\n",
    "from textacy.preprocessing.replace import replace_phone_numbers\n",
    "from textacy.preprocessing.normalize import normalize_whitespace\n",
    "from textacy.preprocessing.normalize import normalize_hyphenated_words\n",
    "import nltk\n",
    "from bs4 import BeautifulSoup\n",
    "from spacymoji import Emoji\n",
    "import urllib.request\n",
    "import urllib3 as urlib\n",
    "\n",
    "\n",
    "\n",
    "\n",
    "import itertools\n",
    "import seaborn as sns\n",
    "import matplotlib.pyplot as plt\n",
    "%matplotlib inline\n",
    "\n",
    "#set font size of labels on matplotlib plots\n",
    "plt.rc('font', size=16)\n",
    "\n",
    "#set style of plots\n",
    "sns.set_style('white')\n",
    "\n",
    "#define a custom palette\n",
    "PALLET = ['#40111D', '#DCD5E4', '#E7CC74'\n",
    "                 ,'#39C8C6', '#AC5583', '#D3500C'\n",
    "                 ,'#FFB139', '#98ADA7', '#AD989E'\n",
    "                 ,'#708090','#6C8570','#3E534D'\n",
    "\n",
    "                 ,'#0B8FD3','#0B47D3','#96D30B'                 \n",
    "                 ,'#630C3A','#F1D0AF','#64788B'                 \n",
    "                 ,'#8B7764','#7A3C5D','#77648B'\n",
    "                 ,'#eaff39','#39ff4e','#4e39ff'\n",
    "                 ,'#ff4e39','#87ff39','#ff3987', ]\n",
    "N_PALLET = len(PALLET)\n",
    "sns.set_palette(PALLET)\n",
    "sns.palplot(PALLET)\n"
   ]
  },
  {
   "cell_type": "markdown",
   "metadata": {
    "ExecuteTime": {
     "end_time": "2020-07-26T21:37:36.103808Z",
     "start_time": "2020-07-26T21:37:36.057200Z"
    }
   },
   "source": [
    "# Test pre-process"
   ]
  },
  {
   "cell_type": "markdown",
   "metadata": {},
   "source": [
    "## Standardization\n",
    "\n",
    "1. **Change from bytes (UTF-8) to string**\n",
    "1. **Change all characters to lower case;**\n",
    "1. **remove extra whitespaces;**\n",
    "1. **Replace currency symbol;**\n",
    "1. **Remove all the punctuation**\n",
    "1. **Remove markup and metadata in HTML**\n",
    "1. **Replace email symbols**\n",
    "1. **Replace currency symbol**\n",
    "1. **Remove puncuation**\n",
    "\n",
    "\n",
    "1. Replace zip codes\n",
    "1. Replace phone numbers\n",
    "1. Remove or substitute unicode characters;\n",
    "1. remove text file headers, footers;\n",
    "1. **put emoji in pipeline**\n",
    "1. **convert emoji into words (or phases);**\n",
    "1.  Correct mis-spelling\n",
    "\n",
    "\n",
    "We can further optimize our code by changing the for loop into list comprehension:\n",
    "\n"
   ]
  },
  {
   "cell_type": "markdown",
   "metadata": {
    "ExecuteTime": {
     "end_time": "2020-08-09T12:24:52.321979Z",
     "start_time": "2020-08-09T12:24:52.259201Z"
    }
   },
   "source": [
    "### set up long_s"
   ]
  },
  {
   "cell_type": "code",
   "execution_count": 21,
   "metadata": {
    "ExecuteTime": {
     "end_time": "2020-08-14T17:16:57.325016Z",
     "start_time": "2020-08-14T17:16:57.261019Z"
    }
   },
   "outputs": [
    {
     "name": "stdout",
     "output_type": "stream",
     "text": [
      "CPU times: user 2.6 ms, sys: 2.01 ms, total: 4.62 ms\n",
      "Wall time: 4.79 ms\n",
      "size: 1.935e+06 :( 😻 👍🏿 https://medium.com/ <title>Document Title</title> :( cat- \n",
      " pig immed- \n",
      " iatedly <html><h2>2nd levelheading</h2></html>  . , # bhc@gmail.com  f@z.y a$@  can't bc$$ ef$4 5 66 $ wont seven eihtg $ nine $$zer$ :( 😻 👍🏿 https://medium.com/ <title>\n"
     ]
    }
   ],
   "source": [
    "MULPIPIER = int(9e3)\n",
    "%time long_s = ':( 😻 👍🏿 https://medium.com/ <title>Document Title</title> :( cat- \\n pig immed- \\n iatedly <html><h2>2nd levelheading</h2></html>  . , # bhc@gmail.com  f@z.y a$@  can\\'t bc$$ ef$4 5 66 $ wont seven eihtg $ nine $$zer$ ' * MULPIPIER\n",
    "print('size: {:g} {}'.format(len(long_s),long_s[:250]))  "
   ]
  },
  {
   "cell_type": "markdown",
   "metadata": {},
   "source": [
    "### Removing HTML metadata"
   ]
  },
  {
   "cell_type": "code",
   "execution_count": 8,
   "metadata": {
    "ExecuteTime": {
     "end_time": "2020-08-13T22:04:51.010082Z",
     "start_time": "2020-08-13T22:04:49.127871Z"
    }
   },
   "outputs": [
    {
     "name": "stdout",
     "output_type": "stream",
     "text": [
      "CPU times: user 1.78 s, sys: 50.1 ms, total: 1.83 s\n",
      "Wall time: 1.83 s\n",
      "size: 1.602e+06 :( 😻 👍🏿 https://medium.com/ Document Title :( cat- \n",
      " pig immed- \n",
      " iatedly 2nd levelheading  . , # bhc@gmail.com  f@z.y a$@  can't bc$$ ef$4 5 66 $ wont seven eihtg $ nine $$zer$ :( 😻 👍🏿 https://medium.com/ Document Title :( cat- \n",
      " pig immed- \n",
      " iatedl\n"
     ]
    }
   ],
   "source": [
    "%time long_s = BeautifulSoup(long_s,'html.parser').get_text()\n",
    "print('size: {:g} {}'.format(len(long_s),long_s[:250]))"
   ]
  },
  {
   "cell_type": "markdown",
   "metadata": {},
   "source": [
    "### running  spacy default pipieline"
   ]
  },
  {
   "cell_type": "code",
   "execution_count": 9,
   "metadata": {
    "ExecuteTime": {
     "end_time": "2020-08-13T22:06:12.523252Z",
     "start_time": "2020-08-13T22:04:51.013609Z"
    }
   },
   "outputs": [
    {
     "name": "stdout",
     "output_type": "stream",
     "text": [
      "CPU times: user 5.88 s, sys: 682 ms, total: 6.56 s\n",
      "Wall time: 6.62 s\n",
      "CPU times: user 59.6 s, sys: 15.3 s, total: 1min 14s\n",
      "Wall time: 1min 14s\n",
      "size: 369000 :( 😻 👍🏿 https://medium.com/ Document Title :( cat- \n",
      " pig immed- \n",
      " iatedly 2nd levelheading  . , # bhc@gmail.com  f@z.y a$@  can't bc$$ ef$4 5 66 $ wont seven eihtg $ nine $$zer$ :( 😻 👍🏿 https://medium.com/ Document Title :( cat-\n"
     ]
    }
   ],
   "source": [
    "%time nlp = spacy.load(\"en_core_web_lg\")\n",
    "nlp.max_length = len(long_s) + 10\n",
    "\n",
    "%time long_s_doc = nlp(long_s)\n",
    "print('size: {:g} {}'.format(len(long_s_doc),long_s_doc[:50]))"
   ]
  },
  {
   "cell_type": "code",
   "execution_count": 10,
   "metadata": {
    "ExecuteTime": {
     "end_time": "2020-08-13T22:06:12.590300Z",
     "start_time": "2020-08-13T22:06:12.526576Z"
    }
   },
   "outputs": [
    {
     "data": {
      "text/plain": [
       "['tagger', 'parser', 'ner']"
      ]
     },
     "execution_count": 10,
     "metadata": {},
     "output_type": "execute_result"
    }
   ],
   "source": [
    "nlp.pipe_names"
   ]
  },
  {
   "cell_type": "code",
   "execution_count": 11,
   "metadata": {
    "ExecuteTime": {
     "end_time": "2020-08-13T22:06:12.659749Z",
     "start_time": "2020-08-13T22:06:12.593397Z"
    }
   },
   "outputs": [
    {
     "data": {
      "text/plain": [
       "['_',\n",
       " '__bytes__',\n",
       " '__class__',\n",
       " '__delattr__',\n",
       " '__dir__',\n",
       " '__doc__',\n",
       " '__eq__',\n",
       " '__format__',\n",
       " '__ge__',\n",
       " '__getattribute__',\n",
       " '__gt__',\n",
       " '__hash__',\n",
       " '__init__',\n",
       " '__init_subclass__',\n",
       " '__le__',\n",
       " '__len__',\n",
       " '__lt__',\n",
       " '__ne__',\n",
       " '__new__',\n",
       " '__pyx_vtable__',\n",
       " '__reduce__',\n",
       " '__reduce_ex__',\n",
       " '__repr__',\n",
       " '__setattr__',\n",
       " '__sizeof__',\n",
       " '__str__',\n",
       " '__subclasshook__',\n",
       " '__unicode__',\n",
       " 'ancestors',\n",
       " 'check_flag',\n",
       " 'children',\n",
       " 'cluster',\n",
       " 'conjuncts',\n",
       " 'dep',\n",
       " 'dep_',\n",
       " 'doc',\n",
       " 'ent_id',\n",
       " 'ent_id_',\n",
       " 'ent_iob',\n",
       " 'ent_iob_',\n",
       " 'ent_kb_id',\n",
       " 'ent_kb_id_',\n",
       " 'ent_type',\n",
       " 'ent_type_',\n",
       " 'get_extension',\n",
       " 'has_extension',\n",
       " 'has_vector',\n",
       " 'head',\n",
       " 'i',\n",
       " 'idx',\n",
       " 'is_alpha',\n",
       " 'is_ancestor',\n",
       " 'is_ascii',\n",
       " 'is_bracket',\n",
       " 'is_currency',\n",
       " 'is_digit',\n",
       " 'is_left_punct',\n",
       " 'is_lower',\n",
       " 'is_oov',\n",
       " 'is_punct',\n",
       " 'is_quote',\n",
       " 'is_right_punct',\n",
       " 'is_sent_end',\n",
       " 'is_sent_start',\n",
       " 'is_space',\n",
       " 'is_stop',\n",
       " 'is_title',\n",
       " 'is_upper',\n",
       " 'lang',\n",
       " 'lang_',\n",
       " 'left_edge',\n",
       " 'lefts',\n",
       " 'lemma',\n",
       " 'lemma_',\n",
       " 'lex_id',\n",
       " 'like_email',\n",
       " 'like_num',\n",
       " 'like_url',\n",
       " 'lower',\n",
       " 'lower_',\n",
       " 'morph',\n",
       " 'n_lefts',\n",
       " 'n_rights',\n",
       " 'nbor',\n",
       " 'norm',\n",
       " 'norm_',\n",
       " 'orth',\n",
       " 'orth_',\n",
       " 'pos',\n",
       " 'pos_',\n",
       " 'prefix',\n",
       " 'prefix_',\n",
       " 'prob',\n",
       " 'rank',\n",
       " 'remove_extension',\n",
       " 'right_edge',\n",
       " 'rights',\n",
       " 'sent',\n",
       " 'sent_start',\n",
       " 'sentiment',\n",
       " 'set_extension',\n",
       " 'shape',\n",
       " 'shape_',\n",
       " 'similarity',\n",
       " 'string',\n",
       " 'subtree',\n",
       " 'suffix',\n",
       " 'suffix_',\n",
       " 'tag',\n",
       " 'tag_',\n",
       " 'tensor',\n",
       " 'text',\n",
       " 'text_with_ws',\n",
       " 'vector',\n",
       " 'vector_norm',\n",
       " 'vocab',\n",
       " 'whitespace_']"
      ]
     },
     "execution_count": 11,
     "metadata": {},
     "output_type": "execute_result"
    }
   ],
   "source": [
    "dir(long_s_doc[0])"
   ]
  },
  {
   "cell_type": "markdown",
   "metadata": {
    "heading_collapsed": true
   },
   "source": [
    "### Adding emoji component"
   ]
  },
  {
   "cell_type": "code",
   "execution_count": 12,
   "metadata": {
    "ExecuteTime": {
     "end_time": "2020-08-13T22:06:42.329991Z",
     "start_time": "2020-08-13T22:06:12.662860Z"
    },
    "hidden": true
   },
   "outputs": [
    {
     "name": "stdout",
     "output_type": "stream",
     "text": [
      "CPU times: user 319 ms, sys: 13.3 ms, total: 332 ms\n",
      "Wall time: 331 ms\n",
      "CPU times: user 22 µs, sys: 0 ns, total: 22 µs\n",
      "Wall time: 26.2 µs\n",
      "CPU times: user 24 s, sys: 5.23 s, total: 29.3 s\n",
      "Wall time: 29.3 s\n",
      "size: 360000 :( 😻 👍🏿 https://medium.com/ Document Title :( cat- \n",
      " pig immed- \n",
      " iatedly 2nd levelheading  . , # bhc@gmail.com  f@z.y a$@  can't bc$$ ef$4 5 66 $ wont seven eihtg $ nine $$zer$ :( 😻 👍🏿 https://medium.com/ Document Title :( cat- \n",
      " pig\n"
     ]
    }
   ],
   "source": [
    "do = nlp.disable_pipes([\"tagger\", \"parser\"])\n",
    "\n",
    "%time emoji = Emoji(nlp)\n",
    "nlp.max_length = len(long_s) + 10\n",
    "%time nlp.add_pipe(emoji, first=True)\n",
    "%time long_s_doc = nlp(long_s)\n",
    "print('size: {:g} {}'.format(len(long_s_doc),long_s_doc[:50]))"
   ]
  },
  {
   "cell_type": "code",
   "execution_count": 13,
   "metadata": {
    "ExecuteTime": {
     "end_time": "2020-08-13T22:06:42.409376Z",
     "start_time": "2020-08-13T22:06:42.333527Z"
    },
    "hidden": true
   },
   "outputs": [
    {
     "name": "stdout",
     "output_type": "stream",
     "text": [
      "False\n",
      "True\n",
      "True\n",
      "False\n",
      "False\n",
      "False\n",
      "False\n",
      "False\n",
      "False\n",
      "False\n",
      "False\n",
      "False\n",
      "False\n",
      "False\n",
      "False\n",
      "False\n",
      "False\n",
      "False\n",
      "False\n",
      "False\n"
     ]
    }
   ],
   "source": [
    "for i in range(20): print(long_s_doc[i]._.is_emoji)"
   ]
  },
  {
   "cell_type": "code",
   "execution_count": 14,
   "metadata": {
    "ExecuteTime": {
     "end_time": "2020-08-13T22:06:42.476242Z",
     "start_time": "2020-08-13T22:06:42.412023Z"
    },
    "hidden": true
   },
   "outputs": [
    {
     "data": {
      "text/plain": [
       "['emoji', 'ner']"
      ]
     },
     "execution_count": 14,
     "metadata": {},
     "output_type": "execute_result"
    }
   ],
   "source": [
    "nlp.pipe_names\n"
   ]
  },
  {
   "cell_type": "raw",
   "metadata": {
    "ExecuteTime": {
     "end_time": "2020-08-13T16:10:24.017617Z",
     "start_time": "2020-08-13T16:10:23.954270Z"
    },
    "hidden": true
   },
   "source": [
    "dir(long_s_doc[0]._)"
   ]
  },
  {
   "cell_type": "code",
   "execution_count": 15,
   "metadata": {
    "ExecuteTime": {
     "end_time": "2020-08-13T22:06:42.545186Z",
     "start_time": "2020-08-13T22:06:42.479860Z"
    },
    "hidden": true
   },
   "outputs": [
    {
     "data": {
      "text/plain": [
       "['emoji_desc',\n",
       " 'get',\n",
       " 'has',\n",
       " 'is_emoji',\n",
       " 'set',\n",
       " 'trf_alignment',\n",
       " 'trf_all_attentions',\n",
       " 'trf_all_hidden_states',\n",
       " 'trf_d_all_attentions',\n",
       " 'trf_d_all_hidden_states',\n",
       " 'trf_d_last_hidden_state',\n",
       " 'trf_d_pooler_output',\n",
       " 'trf_end',\n",
       " 'trf_last_hidden_state',\n",
       " 'trf_pooler_output',\n",
       " 'trf_separator',\n",
       " 'trf_start',\n",
       " 'trf_word_pieces',\n",
       " 'trf_word_pieces_']"
      ]
     },
     "execution_count": 15,
     "metadata": {},
     "output_type": "execute_result"
    }
   ],
   "source": [
    "dir(long_s_doc[0]._)"
   ]
  },
  {
   "cell_type": "markdown",
   "metadata": {},
   "source": [
    "### gutenberg_text"
   ]
  },
  {
   "cell_type": "code",
   "execution_count": 22,
   "metadata": {
    "ExecuteTime": {
     "end_time": "2020-08-14T17:17:13.467064Z",
     "start_time": "2020-08-14T17:17:12.521343Z"
    }
   },
   "outputs": [
    {
     "name": "stdout",
     "output_type": "stream",
     "text": [
      "size: 1.02e+06 b'\\xef\\xbb\\xbf\\r\\nThe Project Gutenberg EBook of The Adventures of Tom Sawyer, Complete by\\r\\nMark Twain (Samuel Clemens)\\r\\n\\r\\nThis eBook'\n"
     ]
    }
   ],
   "source": [
    "\n",
    "text_url = r'http://www.gutenberg.org/files/74/74-0.txt' \n",
    "gutenberg_text =  urllib.request.urlopen(text_url).read()\n",
    "gutenberg_text = gutenberg_text[0:340000] * 3\n",
    "print('size: {:g} {}'.format(len(gutenberg_text),gutenberg_text[:text_l]))"
   ]
  },
  {
   "cell_type": "markdown",
   "metadata": {},
   "source": [
    "### from bytes (UTF-8) to string"
   ]
  },
  {
   "cell_type": "code",
   "execution_count": 23,
   "metadata": {
    "ExecuteTime": {
     "end_time": "2020-08-14T17:17:22.791196Z",
     "start_time": "2020-08-14T17:17:22.729943Z"
    }
   },
   "outputs": [
    {
     "name": "stdout",
     "output_type": "stream",
     "text": [
      "CPU times: user 1.67 ms, sys: 0 ns, total: 1.67 ms\n",
      "Wall time: 1.68 ms\n",
      "size: 1.00427e+06 ﻿\r\n",
      "The Project Gutenberg EBook of The Adventures of Tom Sawyer, Complete by\r\n",
      "Mark Twain (Samuel Clemens)\r\n",
      "\r\n",
      "This eBook i\n"
     ]
    }
   ],
   "source": [
    "## Data variable encoding changed from bytes to string\n",
    "%time gutenberg_text = gutenberg_text.decode('utf-8', \"replace\")\n",
    "print('size: {:g} {}'.format(len(gutenberg_text),gutenberg_text[:text_l]))"
   ]
  },
  {
   "cell_type": "markdown",
   "metadata": {},
   "source": [
    "### pdf to text"
   ]
  },
  {
   "cell_type": "markdown",
   "metadata": {},
   "source": [
    " PDF document using PyPDF2 package in Python and then convert the entire text into a Spacy document object. "
   ]
  },
  {
   "cell_type": "code",
   "execution_count": 93,
   "metadata": {
    "ExecuteTime": {
     "end_time": "2020-08-15T00:12:48.279119Z",
     "start_time": "2020-08-15T00:12:48.199439Z"
    }
   },
   "outputs": [],
   "source": [
    "from pdfminer.pdfinterp import PDFResourceManager, PDFPageInterpreter\n",
    "from pdfminer.converter import TextConverter\n",
    "from pdfminer.layout import LAParams\n",
    "from pdfminer.pdfpage import PDFPage\n",
    "from io import StringIO, BytesIO\n",
    "\n",
    "def convert_pdf_to_txt(pathfilename,url=False):\n",
    "\n",
    "    if not url:\n",
    "        fp = open(pathfilename, mode=\"rb\")# file(path, 'rb')\n",
    "    else:\n",
    "        url_text = urllib.request.urlopen(pathfilename).read()\n",
    "        fp = io.BytesIO(url_text)\n",
    "\n",
    "    rsrcmgr = PDFResourceManager()\n",
    "    retstr = StringIO()\n",
    "    laparams = LAParams()\n",
    "    device = TextConverter(rsrcmgr, retstr, laparams=laparams)\n",
    "    interpreter = PDFPageInterpreter(rsrcmgr, device)\n",
    "    password = \"\"\n",
    "    maxpages = 0\n",
    "    caching = True\n",
    "    pagenos=set()\n",
    "\n",
    "    for page in PDFPage.get_pages(fp, pagenos, maxpages=maxpages\n",
    "                                  , password=password,caching=caching\n",
    "                                  , check_extractable=True):\n",
    "        interpreter.process_page(page)\n",
    "\n",
    "    text = retstr.getvalue()\n",
    "\n",
    "    fp.close()\n",
    "    device.close()\n",
    "    retstr.close()\n",
    "    \n",
    "    return text\n",
    "\n"
   ]
  },
  {
   "cell_type": "code",
   "execution_count": 96,
   "metadata": {
    "ExecuteTime": {
     "end_time": "2020-08-15T00:14:57.731696Z",
     "start_time": "2020-08-15T00:14:13.002116Z"
    }
   },
   "outputs": [
    {
     "name": "stdout",
     "output_type": "stream",
     "text": [
      "CPU times: user 38.5 s, sys: 175 ms, total: 38.7 s\n",
      "Wall time: 44.7 s\n",
      "size: 39383 0 2 0 2     g u A 7         ]  G L . s c [      1 v 4 6 3 3 0  .  8 0 0 2 : v i X r a  Improving the Speed and Quality of GAN by Adversarial  Training  Jiachen Zhong  Xuanqing Liu  Cho-Jui Hsieh  Department of Computer Science  University of California, Los Angeles  Los Angeles CA 90095  {julightzhong10,xqliu,chohsieh}@cs.ucla.edu  August 11, 2020  Abstract  Generative adversarial networks (GAN) have shown remarkable results in image generation tasks. High ﬁdelity class-condi\n"
     ]
    }
   ],
   "source": [
    "text_url = \"https://arxiv.org/pdf/2007.15801v1.pdf\"\n",
    "text_url = \"https://arxiv.org/pdf/2008.04175v1.pdf\"\n",
    "text_url = \"https://arxiv.org/pdf/2008.03364v1.pdf\"\n",
    "\n",
    "\n",
    "%time pdf_text = convert_pdf_to_txt(text_url,True).replace('\\n', ' ')\n",
    "print('size: {:g} {}'.format(len(pdf_text),pdf_text[:text_l*4]))"
   ]
  },
  {
   "cell_type": "code",
   "execution_count": 94,
   "metadata": {
    "ExecuteTime": {
     "end_time": "2020-08-15T00:13:09.690173Z",
     "start_time": "2020-08-15T00:12:56.645757Z"
    }
   },
   "outputs": [
    {
     "name": "stdout",
     "output_type": "stream",
     "text": [
      "CPU times: user 12.9 s, sys: 59.9 ms, total: 12.9 s\n",
      "Wall time: 13 s\n",
      "size: 89633 0 2 0 2    l u J    1 3      ]  G L . s c [      1 v 1 0 8 5 1  .  7 0 0 2 : v i X r a  Finite Versus Inﬁnite Neural Networks:  an Empirical Study  Jaehoon Lee  Samuel S. Schoenholz∗  Jeffrey Pennington∗  Ben Adlam†∗  Lechao Xiao∗  Roman Novak∗  Jascha Sohl-Dickstein  {jaehlee, schsam, jpennin, adlam, xlc, romann, jaschasd}@google.com  Google Brain  Abstract  We perform a careful, thorough, and large scale empirical study of the correspon- dence between wide neural networks a\n"
     ]
    }
   ],
   "source": [
    "%time pdf_text = convert_pdf_to_txt('tmp/inf_finite_NN.pdf').replace('\\n', ' ')\n",
    "print('size: {:g} {}'.format(len(pdf_text),pdf_text[:text_l*4]))"
   ]
  },
  {
   "cell_type": "markdown",
   "metadata": {},
   "source": [
    "### gutenberg_doc"
   ]
  },
  {
   "cell_type": "code",
   "execution_count": 18,
   "metadata": {
    "ExecuteTime": {
     "end_time": "2020-08-13T22:07:01.310164Z",
     "start_time": "2020-08-13T22:06:43.364106Z"
    }
   },
   "outputs": [
    {
     "name": "stdout",
     "output_type": "stream",
     "text": [
      "nlp.max_length:  1602010\n",
      "CPU times: user 14.3 s, sys: 3.57 s, total: 17.9 s\n",
      "Wall time: 17.9 s\n",
      "size: 240790 ﻿\n",
      "The Project Gutenberg EBook of The Adventures of Tom Sawyer, Complete by\n",
      "Mark Twain (Samuel Clemens)\n",
      "\n",
      "This eBook is for the use of anyone anywhere at no cost and with almost\n",
      "no restrictions whatsoever. You may copy it, give it\n"
     ]
    }
   ],
   "source": [
    "if nlp.max_length < len(gutenberg_text) + 10:\n",
    "    nlp.max_length = len(gutenberg_text) + 10\n",
    "print('nlp.max_length: ', nlp.max_length)\n",
    "%time gutenberg_doc = nlp(gutenberg_text)\n",
    "print('size: {:g} {}'.format(len(gutenberg_doc),gutenberg_doc[:50]))"
   ]
  },
  {
   "cell_type": "markdown",
   "metadata": {},
   "source": [
    "\n"
   ]
  },
  {
   "cell_type": "code",
   "execution_count": null,
   "metadata": {
    "ExecuteTime": {
     "end_time": "2020-08-13T13:45:04.121639Z",
     "start_time": "2020-08-13T13:45:02.794002Z"
    }
   },
   "outputs": [],
   "source": []
  },
  {
   "cell_type": "markdown",
   "metadata": {
    "heading_collapsed": true
   },
   "source": [
    "### lowercase"
   ]
  },
  {
   "cell_type": "code",
   "execution_count": 19,
   "metadata": {
    "ExecuteTime": {
     "end_time": "2020-08-13T22:07:01.385277Z",
     "start_time": "2020-08-13T22:07:01.313137Z"
    },
    "hidden": true
   },
   "outputs": [
    {
     "name": "stdout",
     "output_type": "stream",
     "text": [
      "CPU times: user 6.79 ms, sys: 195 µs, total: 6.99 ms\n",
      "Wall time: 6.96 ms\n",
      "size: 1.00427e+06 ﻿\r\n",
      "the project gutenberg ebook of the adventures of tom sawyer, complete by\r\n",
      "mark twain (samuel clemens)\r\n",
      "\r\n",
      "this ebook i\n"
     ]
    }
   ],
   "source": [
    "### - **all characters to lower case;**\n",
    "%time gutenberg_text = gutenberg_text.lower()\n",
    "print('size: {:g} {}'.format(len(gutenberg_text),gutenberg_text[:text_l]))"
   ]
  },
  {
   "cell_type": "markdown",
   "metadata": {
    "heading_collapsed": true
   },
   "source": [
    "### whitepace"
   ]
  },
  {
   "cell_type": "code",
   "execution_count": 20,
   "metadata": {
    "ExecuteTime": {
     "end_time": "2020-08-13T22:07:01.577040Z",
     "start_time": "2020-08-13T22:07:01.388320Z"
    },
    "hidden": true
   },
   "outputs": [
    {
     "name": "stdout",
     "output_type": "stream",
     "text": [
      "CPU times: user 122 ms, sys: 3.27 ms, total: 125 ms\n",
      "Wall time: 125 ms\n",
      "size: 1.575e+06 :( 😻 👍🏿 https://medium.com/ Document Title :( cat- \n",
      " pig immed- \n",
      " iatedly 2nd levelheading . , # bhc@gmail.com f@z.y a$@\n"
     ]
    }
   ],
   "source": [
    "%time text = re.sub(' +', ' ', long_s)\n",
    "print('size: {:g} {}'.format(len(text),text[:text_l]))"
   ]
  },
  {
   "cell_type": "code",
   "execution_count": 21,
   "metadata": {
    "ExecuteTime": {
     "end_time": "2020-08-13T22:07:02.150261Z",
     "start_time": "2020-08-13T22:07:01.580833Z"
    },
    "hidden": true
   },
   "outputs": [
    {
     "name": "stdout",
     "output_type": "stream",
     "text": [
      "CPU times: user 499 ms, sys: 5.13 ms, total: 504 ms\n",
      "Wall time: 506 ms\n",
      "size: 1.575e+06 :( 😻 👍🏿 https://medium.com/ Document Title :( cat- \n",
      " pig immed- \n",
      " iatedly 2nd levelheading . , # bhc@gmail.com f@z.y a$@\n"
     ]
    }
   ],
   "source": [
    "%time text= normalize_whitespace(long_s)\n",
    "print('size: {:g} {}'.format(len(text),text[:text_l]))"
   ]
  },
  {
   "cell_type": "markdown",
   "metadata": {
    "hidden": true
   },
   "source": []
  },
  {
   "cell_type": "markdown",
   "metadata": {
    "heading_collapsed": true
   },
   "source": [
    "### puncuation"
   ]
  },
  {
   "cell_type": "code",
   "execution_count": 22,
   "metadata": {
    "ExecuteTime": {
     "end_time": "2020-08-13T22:07:02.878063Z",
     "start_time": "2020-08-13T22:07:02.153246Z"
    },
    "hidden": true
   },
   "outputs": [
    {
     "name": "stdout",
     "output_type": "stream",
     "text": [
      "CPU times: user 661 ms, sys: 1.33 ms, total: 662 ms\n",
      "Wall time: 661 ms\n",
      "size: 1.00427e+06 ﻿\r\n",
      "the project gutenberg ebook of the adventures o\n"
     ]
    }
   ],
   "source": [
    "# none uses fast reqex\n",
    "%time text = remove_punctuation(gutenberg_text, marks=None)\n",
    "print('size: {:g} {}'.format(len(text),text[:50]))\n"
   ]
  },
  {
   "cell_type": "code",
   "execution_count": 23,
   "metadata": {
    "ExecuteTime": {
     "end_time": "2020-08-13T22:07:02.992570Z",
     "start_time": "2020-08-13T22:07:02.885931Z"
    },
    "hidden": true
   },
   "outputs": [
    {
     "name": "stdout",
     "output_type": "stream",
     "text": [
      "CPU times: user 43.2 ms, sys: 46 µs, total: 43.3 ms\n",
      "Wall time: 43.2 ms\n",
      "size: 1.00427e+06 ﻿\r\n",
      "the project gutenberg ebook of the adventures o\n"
     ]
    }
   ],
   "source": [
    "%time  text = remove_punctuation(gutenberg_text, marks='@#')\n",
    "print('size: {:g} {}'.format(len(text),text[:50]))\n"
   ]
  },
  {
   "cell_type": "code",
   "execution_count": 24,
   "metadata": {
    "ExecuteTime": {
     "end_time": "2020-08-13T22:07:03.123461Z",
     "start_time": "2020-08-13T22:07:02.996325Z"
    },
    "hidden": true
   },
   "outputs": [
    {
     "name": "stdout",
     "output_type": "stream",
     "text": [
      "CPU times: user 61.9 ms, sys: 213 µs, total: 62.1 ms\n",
      "Wall time: 61.8 ms\n",
      "size: 1.00427e+06  \r\n",
      "the project gutenberg ebook of the adventures o\n"
     ]
    }
   ],
   "source": [
    "%time text = re.sub(r'[^\\w\\s]', ' ', gutenberg_text)\n",
    "print('size: {:g} {}'.format(len(text),text[:50]))"
   ]
  },
  {
   "cell_type": "code",
   "execution_count": 25,
   "metadata": {
    "ExecuteTime": {
     "end_time": "2020-08-13T22:07:03.972040Z",
     "start_time": "2020-08-13T22:07:03.126532Z"
    },
    "hidden": true
   },
   "outputs": [
    {
     "name": "stdout",
     "output_type": "stream",
     "text": [
      "CPU times: user 754 ms, sys: 28.1 ms, total: 782 ms\n",
      "Wall time: 781 ms\n",
      "size: 315000 [😻, 👍🏿, https://medium.com/, Document, Title, cat-, \n",
      " , pig, immed-, \n",
      " , iatedly, 2nd, levelheading,  , bhc@gmail.com,  , f@z.y, a$@,  , ca, n't, bc$$, ef$4, 5, 66, $, wo, nt, seven, eihtg, $, nine, $, $, zer$, 😻, 👍🏿, https://medium.com/, Document, Title, cat-, \n",
      " , pig, immed-, \n",
      " , iatedly, 2nd, levelheading,  , bhc@gmail.com]\n"
     ]
    }
   ],
   "source": [
    "%time long_s_doc = [token  for token in long_s_doc if token.is_punct == False or token._.is_emoji == True]\n",
    "print('size: {:g} {}'.format(len(long_s_doc),long_s_doc[:50]))"
   ]
  },
  {
   "cell_type": "markdown",
   "metadata": {},
   "source": [
    "### Replace currency symbol"
   ]
  },
  {
   "cell_type": "code",
   "execution_count": 26,
   "metadata": {
    "ExecuteTime": {
     "end_time": "2020-08-13T22:07:04.472305Z",
     "start_time": "2020-08-13T22:07:03.974535Z"
    }
   },
   "outputs": [
    {
     "ename": "NameError",
     "evalue": "name 'textacy' is not defined",
     "output_type": "error",
     "traceback": [
      "\u001b[0;31m---------------------------------------------------------------------------\u001b[0m",
      "\u001b[0;31mNameError\u001b[0m                                 Traceback (most recent call last)",
      "\u001b[0;32m/docker/photon\u001b[0m in \u001b[0;36m<module>\u001b[0;34m\u001b[0m\n",
      "\u001b[0;31mNameError\u001b[0m: name 'textacy' is not defined"
     ]
    },
    {
     "name": "stdout",
     "output_type": "stream",
     "text": [
      "size: 1.602e+06 :( 😻 👍🏿 https://medium.com/ Document Title :( cat- \n",
      " pig immed- \n",
      " iatedly 2nd levelheading  . , # bhc@gmail.com  f@z.y a$@  can't bc$$ ef$4 5 66 $ wont seven eihtg $ nine $$zer$ :( 😻 👍🏿 https://medium.com/ Document Title :( cat- \n",
      " pig immed- \n",
      " iatedl\n"
     ]
    }
   ],
   "source": [
    "%time long_s = textacy.preprocessing.replace.replace_currency_symbols(long_s)\n",
    "print('size: {:g} {}'.format(len(long_s),long_s[:250]))"
   ]
  },
  {
   "cell_type": "code",
   "execution_count": 27,
   "metadata": {
    "ExecuteTime": {
     "end_time": "2020-08-13T22:07:04.558164Z",
     "start_time": "2020-08-13T22:07:04.475006Z"
    }
   },
   "outputs": [
    {
     "name": "stdout",
     "output_type": "stream",
     "text": [
      "CPU times: user 18.6 ms, sys: 898 µs, total: 19.5 ms\n",
      "Wall time: 19.5 ms\n",
      "size: 1.926e+06 :( 😻 👍🏿 https://medium.com/ Document Title :( cat- \n",
      " pig immed- \n",
      " iatedly 2nd levelheading  . , # bhc@gmail.com  f@z.y a_DOL_@  can't bc_DOL__DOL_ ef_DOL_4 5 66 _DOL_ wont seven eihtg _DOL_ nine _DOL__DOL_zer_DOL_ :( 😻 👍🏿 https://medium.com/ Document\n"
     ]
    }
   ],
   "source": [
    "%time text = re.sub('\\$', '_DOL_', long_s)\n",
    "print('size: {:g} {}'.format(len(text),text[:250]))"
   ]
  },
  {
   "cell_type": "code",
   "execution_count": 28,
   "metadata": {
    "ExecuteTime": {
     "end_time": "2020-08-13T22:07:04.937314Z",
     "start_time": "2020-08-13T22:07:04.561457Z"
    }
   },
   "outputs": [
    {
     "name": "stdout",
     "output_type": "stream",
     "text": [
      "CPU times: user 285 ms, sys: 14.2 ms, total: 299 ms\n",
      "Wall time: 298 ms\n",
      "CPU times: user 8.77 ms, sys: 1.94 ms, total: 10.7 ms\n",
      "Wall time: 10.6 ms\n",
      "size: 1.719e+06 😻 👍🏿 https://medium.com/ Document Title cat- \n",
      "  pig immed- \n",
      "  iatedly 2nd levelheading   bhc@gmail.com   f@z.y a$@   ca n't bc$$ ef$4 5 66 _CUR_ wo nt seven eihtg _CUR_ nine _CUR_ _CUR_ zer$ 😻 👍🏿 https://medium.com/ Document Title cat- \n",
      "  pig immed- \n"
     ]
    }
   ],
   "source": [
    "%time token = [token.text if token.is_currency == False else '_CUR_' for token in long_s_doc]\n",
    "%time long_s = ' '.join(token)\n",
    "print('size: {:g} {}'.format(len(long_s),long_s[:250]))"
   ]
  },
  {
   "cell_type": "markdown",
   "metadata": {},
   "source": [
    "### Remove URL symbol"
   ]
  },
  {
   "cell_type": "code",
   "execution_count": 29,
   "metadata": {
    "ExecuteTime": {
     "end_time": "2020-08-13T22:07:06.344247Z",
     "start_time": "2020-08-13T22:07:04.940320Z"
    }
   },
   "outputs": [
    {
     "name": "stdout",
     "output_type": "stream",
     "text": [
      "CPU times: user 1.38 s, sys: 4.25 ms, total: 1.38 s\n",
      "Wall time: 1.34 s\n",
      "size: 1.593e+06 😻 👍🏿 _URL_ Document Title cat- \n",
      "  pig immed- \n",
      "  iatedly 2nd levelheading   bhc@gmail.com   f@z.y a$@   ca n't bc$$ ef$4 5 66 _CUR_ wo nt seven eihtg _CUR_ nine _CUR_ _CUR_ zer$ 😻 👍🏿 _URL_ Document Title cat- \n",
      "  pig immed- \n",
      "  iatedly 2nd levelheading \n"
     ]
    }
   ],
   "source": [
    "%time long_s = replace_urls(long_s,replace_with= '_URL_')\n",
    "print('size: {:g} {}'.format(len(long_s),long_s[:250]))"
   ]
  },
  {
   "cell_type": "markdown",
   "metadata": {},
   "source": [
    "###  Expanding Contractions"
   ]
  },
  {
   "cell_type": "code",
   "execution_count": 30,
   "metadata": {
    "ExecuteTime": {
     "end_time": "2020-08-13T22:07:06.417078Z",
     "start_time": "2020-08-13T22:07:06.347601Z"
    }
   },
   "outputs": [
    {
     "name": "stdout",
     "output_type": "stream",
     "text": [
      "😻\n",
      "👍🏿\n",
      "https://medium.com/\n",
      "Document\n",
      "Title\n",
      "cat-\n",
      "\n",
      " \n",
      "pig\n",
      "immed-\n",
      "\n",
      " \n",
      "iatedly\n",
      "2nd\n",
      "levelheading\n",
      " \n",
      "bhc@gmail.com\n",
      " \n",
      "f@z.y\n",
      "a$@\n",
      " \n",
      "ca\n"
     ]
    }
   ],
   "source": []
  },
  {
   "cell_type": "code",
   "execution_count": null,
   "metadata": {},
   "outputs": [],
   "source": []
  },
  {
   "cell_type": "code",
   "execution_count": null,
   "metadata": {},
   "outputs": [],
   "source": []
  },
  {
   "cell_type": "markdown",
   "metadata": {
    "ExecuteTime": {
     "end_time": "2020-08-13T18:20:38.022595Z",
     "start_time": "2020-08-13T18:20:37.956945Z"
    }
   },
   "source": []
  },
  {
   "cell_type": "code",
   "execution_count": null,
   "metadata": {},
   "outputs": [],
   "source": []
  },
  {
   "cell_type": "code",
   "execution_count": null,
   "metadata": {
    "ExecuteTime": {
     "end_time": "2020-08-13T18:31:21.679356Z",
     "start_time": "2020-08-13T18:31:21.141191Z"
    }
   },
   "outputs": [],
   "source": []
  },
  {
   "cell_type": "code",
   "execution_count": 31,
   "metadata": {
    "ExecuteTime": {
     "end_time": "2020-08-13T22:07:06.481322Z",
     "start_time": "2020-08-13T22:07:06.419970Z"
    }
   },
   "outputs": [
    {
     "name": "stdout",
     "output_type": "stream",
     "text": [
      "size: 1.926e+06 :( 😻 👍🏿 https://medium.com/ Document Title :( cat- \n",
      " pig immed- \n",
      " iatedly 2nd levelheading  . , # bhc@gmail.com  f@z.y a_DOL_@  can't bc_DOL__DOL_ ef_DOL_4 5 66 _DOL_ wont seven eihtg _DOL_ nine _DOL__DOL_zer_DOL_ :( 😻 👍🏿 https://medium.com/ Document\n"
     ]
    }
   ],
   "source": [
    "print('size: {:g} {}'.format(len(text),text[:250]))"
   ]
  },
  {
   "cell_type": "markdown",
   "metadata": {},
   "source": [
    "### Remove stopwords"
   ]
  },
  {
   "cell_type": "code",
   "execution_count": 36,
   "metadata": {
    "ExecuteTime": {
     "end_time": "2020-08-13T22:34:46.166103Z",
     "start_time": "2020-08-13T22:34:43.869994Z"
    }
   },
   "outputs": [
    {
     "name": "stderr",
     "output_type": "stream",
     "text": [
      "[nltk_data] Downloading package stopwords to /home/jovyan/nltk_data...\n",
      "[nltk_data]   Package stopwords is already up-to-date!\n"
     ]
    },
    {
     "name": "stdout",
     "output_type": "stream",
     "text": [
      "CPU times: user 2.85 ms, sys: 0 ns, total: 2.85 ms\n",
      "Wall time: 2.03 ms\n",
      "CPU times: user 2.2 s, sys: 10.6 ms, total: 2.21 s\n",
      "Wall time: 2.21 s\n",
      "size: 646791 ﻿\n",
      "he prjec guenberg ebk f he venure f  wer, cplee b\n",
      "rk wn (uel cleen)\n",
      "\n",
      "h ebk  fr he ue f nne nwhere  n c n wh l\n",
      "n r\n"
     ]
    }
   ],
   "source": [
    "import nltk.corpus\n",
    "nltk.download('stopwords')\n",
    "from nltk.corpus import stopwords\n",
    "%time stop = stopwords.words('english')\n",
    "%time words = [word for word in gutenberg_text if word not in stop]\n",
    "text = ''.join(words)\n",
    "print('size: {:g} {}'.format(len(text),text[:text_l]))"
   ]
  },
  {
   "cell_type": "code",
   "execution_count": 39,
   "metadata": {
    "ExecuteTime": {
     "end_time": "2020-08-13T22:38:50.348732Z",
     "start_time": "2020-08-13T22:38:49.961909Z"
    }
   },
   "outputs": [
    {
     "name": "stdout",
     "output_type": "stream",
     "text": [
      "CPU times: user 301 ms, sys: 18.1 ms, total: 319 ms\n",
      "Wall time: 318 ms\n",
      "size: 132495 [﻿, \r\n",
      ", Project, Gutenberg, EBook, Adventures, Tom, Sawyer, ,, Complete, \r\n",
      ", Mark, Twain, (, Samuel, Clemens, ), \r\n",
      "\r\n",
      ", eBook, use, cost, \r\n",
      ", restrictions, whatsoever, ., copy, ,, away, -, use, \r\n",
      ", terms, Project, Gutenberg, License, included, \r\n",
      ", eBook, online, www.gutenberg.net, \r\n",
      "\r\n",
      ", Title, :, Adventures, Tom, Sawyer, ,, Complete, \r\n",
      "\r\n",
      ", Author]\n"
     ]
    }
   ],
   "source": [
    "%time gutenberg_doc = [token for token in gutenberg_doc if token.is_stop == False]\n",
    "print('size: {:g} {}'.format(len(gutenberg_doc),gutenberg_doc[:50]))"
   ]
  },
  {
   "cell_type": "markdown",
   "metadata": {},
   "source": [
    "## Normalization\n",
    "- **normalize_hyphenated_words**\n",
    "- Correct mis-spelling of words (tokens); [7]\n",
    "- Perform **Lemmatization**"
   ]
  },
  {
   "cell_type": "markdown",
   "metadata": {},
   "source": [
    "### normalize_hyphenated_words"
   ]
  },
  {
   "cell_type": "code",
   "execution_count": 33,
   "metadata": {
    "ExecuteTime": {
     "end_time": "2020-08-13T22:07:09.465707Z",
     "start_time": "2020-08-13T22:07:08.933799Z"
    }
   },
   "outputs": [
    {
     "name": "stdout",
     "output_type": "stream",
     "text": [
      "CPU times: user 465 ms, sys: 1.89 ms, total: 467 ms\n",
      "Wall time: 467 ms\n",
      "size: 1.503e+06 😻 👍🏿 _URL_ Document Title catpig immediatedly 2nd levelheading   bhc@gmail.com   f@z.y a$@   ca n't bc$$ ef$4 5 66 _CUR_ wo nt seven eihtg _CUR_ nine _CUR_ _CUR_ zer$ 😻 👍🏿 _URL_ Document Title catpig immediatedly 2nd levelheading   bhc@gmail.com   f@\n"
     ]
    }
   ],
   "source": [
    "%time long_s = normalize_hyphenated_words(long_s)\n",
    "print('size: {:g} {}'.format(len(long_s),long_s[:250]))"
   ]
  },
  {
   "cell_type": "markdown",
   "metadata": {},
   "source": [
    "### Correct mis-spelling"
   ]
  },
  {
   "cell_type": "code",
   "execution_count": 34,
   "metadata": {
    "ExecuteTime": {
     "end_time": "2020-08-13T22:07:10.217193Z",
     "start_time": "2020-08-13T22:07:09.468545Z"
    }
   },
   "outputs": [
    {
     "name": "stdout",
     "output_type": "stream",
     "text": [
      "/bin/sh: 1: brew: not found\r\n"
     ]
    }
   ],
   "source": [
    "!brew install enchant"
   ]
  },
  {
   "cell_type": "code",
   "execution_count": 35,
   "metadata": {
    "ExecuteTime": {
     "end_time": "2020-08-13T22:07:10.323677Z",
     "start_time": "2020-08-13T22:07:10.221196Z"
    }
   },
   "outputs": [
    {
     "ename": "ModuleNotFoundError",
     "evalue": "No module named 'enchant'",
     "output_type": "error",
     "traceback": [
      "\u001b[0;31m---------------------------------------------------------------------------\u001b[0m",
      "\u001b[0;31mModuleNotFoundError\u001b[0m                       Traceback (most recent call last)",
      "\u001b[0;32m/docker/photon\u001b[0m in \u001b[0;36m<module>\u001b[0;34m\u001b[0m\n\u001b[1;32m      1\u001b[0m \u001b[0mext\u001b[0m \u001b[0;34m=\u001b[0m \u001b[0;34m\"this is sme text with a speling mistake.\"\u001b[0m\u001b[0;34m\u001b[0m\u001b[0;34m\u001b[0m\u001b[0m\n\u001b[0;32m----> 2\u001b[0;31m \u001b[0;32mfrom\u001b[0m \u001b[0menchant\u001b[0m\u001b[0;34m.\u001b[0m\u001b[0mchecker\u001b[0m \u001b[0;32mimport\u001b[0m \u001b[0mSpellChecker\u001b[0m\u001b[0;34m\u001b[0m\u001b[0;34m\u001b[0m\u001b[0m\n\u001b[0m\u001b[1;32m      3\u001b[0m \u001b[0mchkr\u001b[0m \u001b[0;34m=\u001b[0m \u001b[0mSpellChecker\u001b[0m\u001b[0;34m(\u001b[0m\u001b[0;34m\"en_US\"\u001b[0m\u001b[0;34m,\u001b[0m \u001b[0mtext\u001b[0m\u001b[0;34m)\u001b[0m\u001b[0;34m\u001b[0m\u001b[0;34m\u001b[0m\u001b[0m\n\u001b[1;32m      4\u001b[0m \u001b[0;32mfor\u001b[0m \u001b[0merr\u001b[0m \u001b[0;32min\u001b[0m \u001b[0mchkr\u001b[0m\u001b[0;34m:\u001b[0m\u001b[0;34m\u001b[0m\u001b[0;34m\u001b[0m\u001b[0m\n\u001b[1;32m      5\u001b[0m     \u001b[0merr\u001b[0m\u001b[0;34m.\u001b[0m\u001b[0mreplace\u001b[0m\u001b[0;34m(\u001b[0m\u001b[0merr\u001b[0m\u001b[0;34m.\u001b[0m\u001b[0mword\u001b[0m\u001b[0;34m)\u001b[0m\u001b[0;34m\u001b[0m\u001b[0;34m\u001b[0m\u001b[0m\n",
      "\u001b[0;31mModuleNotFoundError\u001b[0m: No module named 'enchant'"
     ]
    }
   ],
   "source": [
    "ext = \"this is sme text with a speling mistake.\"\n",
    "from enchant.checker import SpellChecker\n",
    "chkr = SpellChecker(\"en_US\", text)\n",
    "for err in chkr:\n",
    "    err.replace(err.word)\n",
    "chkr.get_text()"
   ]
  },
  {
   "cell_type": "code",
   "execution_count": null,
   "metadata": {},
   "outputs": [],
   "source": []
  },
  {
   "cell_type": "markdown",
   "metadata": {
    "ExecuteTime": {
     "end_time": "2020-07-28T22:44:24.595461Z",
     "start_time": "2020-07-28T22:44:24.591364Z"
    }
   },
   "source": [
    "### lemmatize"
   ]
  },
  {
   "cell_type": "code",
   "execution_count": null,
   "metadata": {
    "ExecuteTime": {
     "end_time": "2020-08-13T22:07:10.327268Z",
     "start_time": "2020-08-13T22:04:36.643Z"
    }
   },
   "outputs": [],
   "source": [
    "from nltk.stem import WordNetLemmatizer\n",
    "%time lemmas = [wordnet_lemmatizer.lemmatize(w) for w in tokens]\n",
    "print('lemmas size: {:g} {}'.format(len(lemmas),lemmas[:20]))"
   ]
  },
  {
   "cell_type": "markdown",
   "metadata": {},
   "source": [
    "## spacy does everthing"
   ]
  },
  {
   "cell_type": "code",
   "execution_count": null,
   "metadata": {
    "ExecuteTime": {
     "end_time": "2020-08-13T22:07:10.328862Z",
     "start_time": "2020-08-13T22:04:36.646Z"
    }
   },
   "outputs": [],
   "source": [
    "### lowercase, Whitespace, punctuation"
   ]
  },
  {
   "cell_type": "code",
   "execution_count": null,
   "metadata": {
    "ExecuteTime": {
     "end_time": "2020-08-13T22:07:10.330747Z",
     "start_time": "2020-08-13T22:04:36.648Z"
    }
   },
   "outputs": [],
   "source": [
    "for n, token in enumerate(gutenberg_doc[:10]):\n",
    "    print('n: ',n, 'tk  attr:', token.text, token.lemma_, token.pos_, token.tag_, token.dep_,\n",
    "            token.shape_, token.is_alpha, token.is_stop)"
   ]
  },
  {
   "cell_type": "code",
   "execution_count": null,
   "metadata": {
    "ExecuteTime": {
     "end_time": "2020-08-13T22:07:10.332465Z",
     "start_time": "2020-08-13T22:04:36.650Z"
    }
   },
   "outputs": [],
   "source": [
    "#### remove whitespace, lower, puncuation, tokenize\n",
    "%time tokens = [token.text for token in gutenberg_doc if (token.pos_ not in ['SPACE','PUNCT'])]\n",
    "%time text = ' '.join(tokens)\n",
    "print('size: {:g} {}'.format(len(text),text[:50]))"
   ]
  },
  {
   "cell_type": "markdown",
   "metadata": {},
   "source": [
    "### Replace currency symbol"
   ]
  },
  {
   "cell_type": "code",
   "execution_count": null,
   "metadata": {
    "ExecuteTime": {
     "end_time": "2020-08-13T22:07:10.334139Z",
     "start_time": "2020-08-13T22:04:36.653Z"
    }
   },
   "outputs": [],
   "source": [
    "%time text = textacy.preprocessing.replace.replace_currency_symbols(long_s)\n",
    "print('size: {:g} {}'.format(len(text),text[:250]))"
   ]
  },
  {
   "cell_type": "markdown",
   "metadata": {},
   "source": [
    "### Replace email "
   ]
  },
  {
   "cell_type": "code",
   "execution_count": null,
   "metadata": {
    "ExecuteTime": {
     "end_time": "2020-08-13T22:07:10.335767Z",
     "start_time": "2020-08-13T22:04:36.656Z"
    }
   },
   "outputs": [],
   "source": [
    "%time text = textacy.preprocessing.replace.replace_emails(long_s)\n",
    "print('size: {:g} {}'.format(len(text),text[:250]))"
   ]
  },
  {
   "cell_type": "code",
   "execution_count": null,
   "metadata": {
    "ExecuteTime": {
     "end_time": "2020-08-13T22:07:10.337551Z",
     "start_time": "2020-08-13T22:04:36.658Z"
    }
   },
   "outputs": [],
   "source": [
    "%time tokens = [token for token in long_s_doc if not token.like_email]\n",
    "print('size: {:g} {}'.format(len(tokens),tokens[:20]))"
   ]
  },
  {
   "cell_type": "markdown",
   "metadata": {
    "ExecuteTime": {
     "end_time": "2020-08-09T13:13:01.665556Z",
     "start_time": "2020-08-09T13:12:09.958772Z"
    }
   },
   "source": [
    "### Remove stopwords"
   ]
  },
  {
   "cell_type": "code",
   "execution_count": null,
   "metadata": {
    "ExecuteTime": {
     "end_time": "2020-08-13T22:07:10.339719Z",
     "start_time": "2020-08-13T22:04:36.660Z"
    }
   },
   "outputs": [],
   "source": [
    "%time tokens = [vocab.text for vocab in gutenberg_doc if vocab.is_stop != True]\n",
    "text = ' '.join(tokens)\n",
    "print('size: {:g} {}'.format(len(text),text[:250]))\n"
   ]
  },
  {
   "cell_type": "code",
   "execution_count": null,
   "metadata": {
    "ExecuteTime": {
     "end_time": "2020-08-13T22:07:10.342241Z",
     "start_time": "2020-08-13T22:04:36.662Z"
    }
   },
   "outputs": [],
   "source": [
    "dir(tokens[0])"
   ]
  },
  {
   "cell_type": "code",
   "execution_count": null,
   "metadata": {
    "ExecuteTime": {
     "end_time": "2020-08-13T22:07:10.345761Z",
     "start_time": "2020-08-13T22:04:36.665Z"
    }
   },
   "outputs": [],
   "source": [
    "dir(gutenberg_doc.vocab[0])"
   ]
  },
  {
   "cell_type": "code",
   "execution_count": null,
   "metadata": {
    "ExecuteTime": {
     "end_time": "2020-08-13T22:07:10.347373Z",
     "start_time": "2020-08-13T22:04:36.666Z"
    }
   },
   "outputs": [],
   "source": [
    "dir(tokens[0])"
   ]
  },
  {
   "cell_type": "markdown",
   "metadata": {},
   "source": [
    "### Replace emojis with phase"
   ]
  },
  {
   "cell_type": "code",
   "execution_count": null,
   "metadata": {
    "ExecuteTime": {
     "end_time": "2020-08-13T22:07:10.349021Z",
     "start_time": "2020-08-13T22:04:36.669Z"
    }
   },
   "outputs": [],
   "source": [
    "# Change emojicon to Recreate doc/corpus\n",
    "%time tk = [token.text if token._.is_emoji == False else token._.emoji_desc for token in long_s_doc]\n",
    "%time long_s = ' '.join(tk)\n",
    "print('size: {:g} {}'.format(len(long_s),long_s[:250]))"
   ]
  },
  {
   "cell_type": "code",
   "execution_count": null,
   "metadata": {},
   "outputs": [],
   "source": []
  },
  {
   "cell_type": "code",
   "execution_count": null,
   "metadata": {},
   "outputs": [],
   "source": []
  },
  {
   "cell_type": "markdown",
   "metadata": {},
   "source": [
    "## array test"
   ]
  },
  {
   "cell_type": "code",
   "execution_count": null,
   "metadata": {
    "ExecuteTime": {
     "end_time": "2020-08-13T22:07:10.350307Z",
     "start_time": "2020-08-13T22:04:36.674Z"
    }
   },
   "outputs": [],
   "source": [
    "\n",
    "ALEN =1000000\n",
    "#a = np.ndarray(ALEN, dtype=np.str)\n",
    "a = []\n",
    "for i in range(ALEN):\n",
    "    a = a.append('word')\n",
    "type(a)"
   ]
  },
  {
   "cell_type": "markdown",
   "metadata": {},
   "source": [
    "## multiprocessing"
   ]
  },
  {
   "cell_type": "code",
   "execution_count": null,
   "metadata": {},
   "outputs": [],
   "source": []
  },
  {
   "cell_type": "code",
   "execution_count": null,
   "metadata": {},
   "outputs": [],
   "source": []
  },
  {
   "cell_type": "code",
   "execution_count": null,
   "metadata": {},
   "outputs": [],
   "source": []
  },
  {
   "cell_type": "markdown",
   "metadata": {},
   "source": [
    "## GPU\n"
   ]
  },
  {
   "cell_type": "code",
   "execution_count": null,
   "metadata": {},
   "outputs": [],
   "source": []
  },
  {
   "cell_type": "code",
   "execution_count": null,
   "metadata": {},
   "outputs": [],
   "source": []
  },
  {
   "cell_type": "code",
   "execution_count": null,
   "metadata": {},
   "outputs": [],
   "source": []
  }
 ],
 "metadata": {
  "kernelspec": {
   "display_name": "Python 3",
   "language": "python",
   "name": "python3"
  },
  "language_info": {
   "codemirror_mode": {
    "name": "ipython",
    "version": 3
   },
   "file_extension": ".py",
   "mimetype": "text/x-python",
   "name": "python",
   "nbconvert_exporter": "python",
   "pygments_lexer": "ipython3",
   "version": "3.7.6"
  },
  "toc": {
   "base_numbering": 1,
   "nav_menu": {},
   "number_sections": true,
   "sideBar": true,
   "skip_h1_title": false,
   "title_cell": "Table of Contents",
   "title_sidebar": "Contents",
   "toc_cell": false,
   "toc_position": {
    "height": "calc(100% - 180px)",
    "left": "10px",
    "top": "150px",
    "width": "218px"
   },
   "toc_section_display": true,
   "toc_window_display": false
  }
 },
 "nbformat": 4,
 "nbformat_minor": 4
}
